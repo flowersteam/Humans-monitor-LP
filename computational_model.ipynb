{
 "cells": [
  {
   "cell_type": "markdown",
   "metadata": {},
   "source": [
    "**Imports**"
   ]
  },
  {
   "cell_type": "code",
   "execution_count": 1,
   "metadata": {
    "ExecuteTime": {
     "end_time": "2021-05-16T17:48:35.933245Z",
     "start_time": "2021-05-16T17:48:33.337688Z"
    }
   },
   "outputs": [],
   "source": [
    "%load_ext autoreload\n",
    "%autoreload 2\n",
    "\n",
    "import numpy as np\n",
    "import pandas as pd\n",
    "from scipy import optimize\n",
    "from IPython.display import display\n",
    "from itertools import combinations\n",
    "from tqdm.notebook import tqdm\n",
    "import numdifftools as nd\n",
    "import statsmodels.api as sm\n",
    "from statsmodels.formula.api import ols, logit\n",
    "from os import path\n",
    "import python_scripts.utils.model_utils as mut"
   ]
  },
  {
   "cell_type": "markdown",
   "metadata": {},
   "source": [
    "# Fitting models for comparison"
   ]
  },
  {
   "cell_type": "code",
   "execution_count": 3,
   "metadata": {
    "ExecuteTime": {
     "end_time": "2021-05-16T18:07:20.162116Z",
     "start_time": "2021-05-16T17:52:49.938635Z"
    },
    "code_folding": [],
    "scrolled": false
   },
   "outputs": [
    {
     "name": "stdout",
     "output_type": "stream",
     "text": [
      "Each model subset's results are appended to /Users/alexten/Projects/Humans-monitor-LP/data/model_results/param_fits_raw.csv\n"
     ]
    },
    {
     "data": {
      "application/vnd.jupyter.widget-view+json": {
       "model_id": "20e8c025737f42d3ab735b74b1eed1d8",
       "version_major": 2,
       "version_minor": 0
      },
      "text/plain": [
       "HBox(children=(HTML(value='Progress'), FloatProgress(value=0.0, max=7.0), HTML(value='')))"
      ]
     },
     "metadata": {},
     "output_type": "display_data"
    },
    {
     "data": {
      "application/vnd.jupyter.widget-view+json": {
       "model_id": "",
       "version_major": 2,
       "version_minor": 0
      },
      "text/plain": [
       "HBox(children=(HTML(value='Variable set = (rpc)'), FloatProgress(value=0.0, max=365.0), HTML(value='')))"
      ]
     },
     "metadata": {},
     "output_type": "display_data"
    },
    {
     "data": {
      "application/vnd.jupyter.widget-view+json": {
       "model_id": "",
       "version_major": 2,
       "version_minor": 0
      },
      "text/plain": [
       "HBox(children=(HTML(value='Variable set = (rlp)'), FloatProgress(value=0.0, max=365.0), HTML(value='')))"
      ]
     },
     "metadata": {},
     "output_type": "display_data"
    },
    {
     "data": {
      "application/vnd.jupyter.widget-view+json": {
       "model_id": "",
       "version_major": 2,
       "version_minor": 0
      },
      "text/plain": [
       "HBox(children=(HTML(value='Variable set = (abst)'), FloatProgress(value=0.0, max=365.0), HTML(value='')))"
      ]
     },
     "metadata": {},
     "output_type": "display_data"
    },
    {
     "data": {
      "application/vnd.jupyter.widget-view+json": {
       "model_id": "",
       "version_major": 2,
       "version_minor": 0
      },
      "text/plain": [
       "HBox(children=(HTML(value='Variable set = (rpc,rlp)'), FloatProgress(value=0.0, max=365.0), HTML(value='')))"
      ]
     },
     "metadata": {},
     "output_type": "display_data"
    },
    {
     "data": {
      "application/vnd.jupyter.widget-view+json": {
       "model_id": "",
       "version_major": 2,
       "version_minor": 0
      },
      "text/plain": [
       "HBox(children=(HTML(value='Variable set = (rpc,abst)'), FloatProgress(value=0.0, max=365.0), HTML(value='')))"
      ]
     },
     "metadata": {},
     "output_type": "display_data"
    },
    {
     "data": {
      "application/vnd.jupyter.widget-view+json": {
       "model_id": "",
       "version_major": 2,
       "version_minor": 0
      },
      "text/plain": [
       "HBox(children=(HTML(value='Variable set = (rlp,abst)'), FloatProgress(value=0.0, max=365.0), HTML(value='')))"
      ]
     },
     "metadata": {},
     "output_type": "display_data"
    },
    {
     "data": {
      "application/vnd.jupyter.widget-view+json": {
       "model_id": "",
       "version_major": 2,
       "version_minor": 0
      },
      "text/plain": [
       "HBox(children=(HTML(value='Variable set = (rpc,rlp,abst)'), FloatProgress(value=0.0, max=365.0), HTML(value=''…"
      ]
     },
     "metadata": {},
     "output_type": "display_data"
    },
    {
     "name": "stdout",
     "output_type": "stream",
     "text": [
      "\n"
     ]
    }
   ],
   "source": [
    "def main(model_data_path, nruns, init_dict, init_tau_range, save_path=''):\n",
    "    df = pd.read_csv(model_data_path, index_col='sid')\n",
    "    df = df.loc[df.trial.le(250), :]\n",
    "    df = df.loc[df.nam.gt(0), :]\n",
    "\n",
    "    # Set up model comparison (get paramter combinations)\n",
    "    np.random.seed(1)\n",
    "    var_set = list(init_dict.keys())\n",
    "    subsets = []\n",
    "    for nb_vars in range(1, len(var_set)+1):\n",
    "        for subset in combinations(var_set, nb_vars):\n",
    "            subsets.append(subset)\n",
    "            \n",
    "    # Collect model data\n",
    "    print('Each model subset\\'s results are appended to {}'.format(path.abspath(save_path)))\n",
    "    first = True\n",
    "    for subset in tqdm(subsets, desc='Progress'):\n",
    "        comp_data = []\n",
    "        model_form = ','.join(subset)\n",
    "        init_dict_subset = {k: init_dict[k] for k in subset}\n",
    "        init_dict_subset['tau'] = init_tau_range\n",
    "        for i, sdf in tqdm(df.groupby('sid'), desc='Variable set = ({})'.format(model_form), leave=False):\n",
    "            model = mut.SoftmaxChoiceModel(\n",
    "                objective = mut.neg_log_likelihood, \n",
    "                data = sdf,\n",
    "                init_dict = init_dict_subset.copy(),\n",
    "            )\n",
    "            model.transform_inp_data(mut.normalize)\n",
    "            repeat = True\n",
    "            while repeat:\n",
    "                model.n_best_stop(n_stop=nruns, max_iter=200, show_progress=False)\n",
    "                group, nam = sdf.iloc[0].loc[['group', 'nam']]\n",
    "                model_aic = model.get_aic()\n",
    "                repeat = np.isnan(model_aic)\n",
    "            comp_data.append([i, group, nam, model_form, model.get_aic(), model.get_param_csv()])\n",
    "        if save_path:\n",
    "            pd.DataFrame(\n",
    "                comp_data, \n",
    "                columns=['sid', 'group', 'nam', 'vars', 'aic', 'params']\n",
    "            ).to_csv(save_path, mode='w' if first else 'a', header=first, index=False)\n",
    "        first = False\n",
    "\n",
    "    \n",
    "main(\n",
    "    model_data_path = 'data/model_data.csv',\n",
    "    nruns = 50,\n",
    "    init_dict = {\n",
    "        'rpc':[[-1, 1], True],\n",
    "        'rlp':[[-1, 1], True],\n",
    "        'abst': [[-1, 1], True]\n",
    "    },\n",
    "    init_tau_range = [[0, 100], True],\n",
    "    save_path = 'data/model_results/param_fits_raw.csv',\n",
    ")"
   ]
  },
  {
   "cell_type": "code",
   "execution_count": null,
   "metadata": {},
   "outputs": [],
   "source": []
  }
 ],
 "metadata": {
  "hide_input": false,
  "kernelspec": {
   "display_name": "Python 3",
   "language": "python",
   "name": "python3"
  },
  "language_info": {
   "codemirror_mode": {
    "name": "ipython",
    "version": 3
   },
   "file_extension": ".py",
   "mimetype": "text/x-python",
   "name": "python",
   "nbconvert_exporter": "python",
   "pygments_lexer": "ipython3",
   "version": "3.6.4"
  },
  "toc": {
   "base_numbering": 1,
   "nav_menu": {},
   "number_sections": true,
   "sideBar": true,
   "skip_h1_title": false,
   "title_cell": "Table of Contents",
   "title_sidebar": "Contents",
   "toc_cell": false,
   "toc_position": {},
   "toc_section_display": true,
   "toc_window_display": false
  },
  "varInspector": {
   "cols": {
    "lenName": 16,
    "lenType": 16,
    "lenVar": 40
   },
   "kernels_config": {
    "python": {
     "delete_cmd_postfix": "",
     "delete_cmd_prefix": "del ",
     "library": "var_list.py",
     "varRefreshCmd": "print(var_dic_list())"
    },
    "r": {
     "delete_cmd_postfix": ") ",
     "delete_cmd_prefix": "rm(",
     "library": "var_list.r",
     "varRefreshCmd": "cat(var_dic_list()) "
    }
   },
   "types_to_exclude": [
    "module",
    "function",
    "builtin_function_or_method",
    "instance",
    "_Feature"
   ],
   "window_display": false
  }
 },
 "nbformat": 4,
 "nbformat_minor": 2
}
