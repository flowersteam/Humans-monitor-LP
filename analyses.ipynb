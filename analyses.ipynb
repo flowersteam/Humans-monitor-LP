{
 "cells": [
  {
   "cell_type": "markdown",
   "metadata": {},
   "source": [
    "**Imports**"
   ]
  },
  {
   "cell_type": "code",
   "execution_count": null,
   "metadata": {
    "ExecuteTime": {
     "end_time": "2021-05-21T21:29:36.035108Z",
     "start_time": "2021-05-21T21:29:31.914Z"
    }
   },
   "outputs": [],
   "source": [
    "library(tidyverse)\n",
    "library(emmeans)\n",
    "library(rstatix)\n",
    "library(MASS)\n",
    "library(stargazer)\n",
    "\n",
    "\n",
    "options(pillar.sigfig = 6, digits=6, warn=0, dplyr.summarise.inform = FALSE)"
   ]
  },
  {
   "cell_type": "markdown",
   "metadata": {
    "heading_collapsed": true
   },
   "source": [
    "# Section 2"
   ]
  },
  {
   "cell_type": "markdown",
   "metadata": {
    "ExecuteTime": {
     "end_time": "2021-01-09T13:18:43.305001Z",
     "start_time": "2021-01-09T13:18:43.224Z"
    },
    "heading_collapsed": true,
    "hidden": true
   },
   "source": [
    "## Comparisons of familiarization-stage performance between groups"
   ]
  },
  {
   "cell_type": "code",
   "execution_count": null,
   "metadata": {
    "ExecuteTime": {
     "end_time": "2021-05-16T20:40:02.043438Z",
     "start_time": "2021-05-16T20:40:00.588Z"
    },
    "hidden": true
   },
   "outputs": [],
   "source": [
    "f <- function() { \n",
    "    # Prepare data\n",
    "    df <- tibble::as_tibble(read.csv('data/clean_data.csv')) %>%\n",
    "        dplyr::filter(stage=='train') %>%\n",
    "        dplyr::select(sid,group,activity,correct) %>%\n",
    "        dplyr::mutate(\n",
    "            correct = as.numeric(correct=='True'),\n",
    "            group = dplyr::recode(as.factor(group), '0'='IG', '1'='EG'),\n",
    "            sid = as.factor(sid)\n",
    "        )\n",
    "\n",
    "    # Calculate PC per task per subject\n",
    "    df <- group_by(df, sid , activity) %>% dplyr::summarize(group = head(group, 1), pc = mean(correct))\n",
    "\n",
    "    # Perform mixed ANOVA\n",
    "    AOV_results <- aov(pc ~ group * activity + Error(sid), df)\n",
    "    print(summary(AOV_results), digits=6)\n",
    "    \n",
    "    # Post hoc analysis\n",
    "    linmod <- lm(pc ~ group * activity, data=df, contrasts=list(group=contr.treatment(2), activity=contr.treatment(4)))\n",
    "    posthoc <- emmeans(linmod, pairwise ~ activity | group, adjust = \"tukey\")\n",
    "    print(pairs(posthoc))\n",
    "}\n",
    "\n",
    "f()"
   ]
  },
  {
   "cell_type": "markdown",
   "metadata": {
    "ExecuteTime": {
     "end_time": "2021-01-09T18:02:18.240026Z",
     "start_time": "2021-01-09T18:02:18.201Z"
    },
    "heading_collapsed": true,
    "hidden": true
   },
   "source": [
    "## Comparisons of activity preferences between groups"
   ]
  },
  {
   "cell_type": "code",
   "execution_count": null,
   "metadata": {
    "ExecuteTime": {
     "end_time": "2021-05-22T00:13:10.925783Z",
     "start_time": "2021-05-22T00:13:09.722Z"
    },
    "hidden": true
   },
   "outputs": [],
   "source": [
    "f <- function() { \n",
    "    # Prepare data\n",
    "    df <- read.csv('data/clean_data.csv') %>%\n",
    "        dplyr::filter(trial<=60+250) %>%\n",
    "        dplyr::select(sid,group,trial,activity) %>% \n",
    "        dplyr::group_by(group,sid,activity) %>% \n",
    "        dplyr::summarize(count=n()) %>%\n",
    "        dplyr::ungroup() %>%\n",
    "        dplyr::mutate(\n",
    "            relt=(count-15)/250,\n",
    "            group = dplyr::recode(as.factor(group), '0'='IG', '1'='EG'),\n",
    "            sid = as.factor(sid)\n",
    "        )\n",
    "\n",
    "    # Print stats\n",
    "    dplyr::group_by(df, group, activity) %>% \n",
    "    dplyr::summarize(mean=mean(relt), std=sd(relt)) %>%\n",
    "    print(digits=6)\n",
    "\n",
    "    # Fit a linear mixed effects model\n",
    "    df <- within(df, activity <- relevel(activity, ref='A1'))\n",
    "    df <- within(df, group <- relevel(group, ref='IG'))\n",
    "    linmod <- lm(\n",
    "      relt ~ group * activity, \n",
    "      data = df, \n",
    "      contrasts = list(group=contr.treatment(2), activity=contr.sum(4))\n",
    "    )\n",
    "    print(summary(linmod), digits=6)\n",
    "\n",
    "    # Perform mixed ANOVA\n",
    "    AOV_results <- aov(relt ~ group * activity + Error(sid), df)\n",
    "    print(summary(AOV_results), digits=6)\n",
    "}\n",
    "\n",
    "f()"
   ]
  },
  {
   "cell_type": "markdown",
   "metadata": {
    "heading_collapsed": true,
    "hidden": true
   },
   "source": [
    "## Analyses of learning achievement"
   ]
  },
  {
   "cell_type": "markdown",
   "metadata": {
    "heading_collapsed": true,
    "hidden": true
   },
   "source": [
    "### Unweighted average score"
   ]
  },
  {
   "cell_type": "code",
   "execution_count": null,
   "metadata": {
    "ExecuteTime": {
     "end_time": "2021-05-22T00:31:14.217846Z",
     "start_time": "2021-05-22T00:31:14.121Z"
    },
    "hidden": true
   },
   "outputs": [],
   "source": [
    "f <- function() {   \n",
    "    # Prepare data\n",
    "    df <- read.csv('data/learning_data.csv') %>% \n",
    "        dplyr::select(sid, group, fpc) %>%\n",
    "        dplyr::mutate(group=dplyr::recode(as.factor(group), '0'='IG', '1'='EG'))\n",
    "    \n",
    "    print(dplyr::group_by(df, group) %>% dplyr::summarize(mean=mean(fpc), std=sd(fpc)))\n",
    "    \n",
    "    # Compare combined scores in the two groups\n",
    "    scores.IG <- df[df$group=='IG', 'fpc']\n",
    "    scores.EG <- df[df$group=='EG', 'fpc']\n",
    "    t.test(scores.IG, scores.EG)\n",
    "}\n",
    "\n",
    "f()"
   ]
  },
  {
   "cell_type": "markdown",
   "metadata": {
    "heading_collapsed": true,
    "hidden": true
   },
   "source": [
    "### Weighted average score (dwfPC)"
   ]
  },
  {
   "cell_type": "code",
   "execution_count": null,
   "metadata": {
    "ExecuteTime": {
     "end_time": "2021-05-16T21:23:46.954412Z",
     "start_time": "2021-05-16T21:23:46.866Z"
    },
    "hidden": true
   },
   "outputs": [],
   "source": [
    "f <- function() {   \n",
    "    # Prepare data\n",
    "    df <- read.csv('data/learning_data.csv') %>%\n",
    "        dplyr::select(sid, group, dwfpc) %>%\n",
    "        dplyr::mutate(group=dplyr::recode(as.factor(group), '0'='IG', '1'='EG'))\n",
    "    \n",
    "    print(dplyr::group_by(df, group) %>% dplyr::summarize(mean=mean(dwfpc), std=sd(dwfpc)))\n",
    "    \n",
    "    # Compare combined scores in the two groups\n",
    "    scores.IG <- df[df$group=='IG', 'dwfpc']\n",
    "    scores.EG <- df[df$group=='EG', 'dwfpc']\n",
    "    print(t.test(scores.IG, scores.EG), digits=6)\n",
    "}\n",
    "\n",
    "f()"
   ]
  },
  {
   "cell_type": "markdown",
   "metadata": {
    "heading_collapsed": true,
    "hidden": true
   },
   "source": [
    "### Compare learning between groups at each level of NAM"
   ]
  },
  {
   "cell_type": "code",
   "execution_count": null,
   "metadata": {
    "ExecuteTime": {
     "end_time": "2021-05-16T21:27:09.929023Z",
     "start_time": "2021-05-16T21:27:09.837Z"
    },
    "hidden": true
   },
   "outputs": [],
   "source": [
    "f <- function() {   \n",
    "    # Prepare data\n",
    "    df <- read.csv('data/learning_data.csv') %>%\n",
    "        dplyr::select(sid,group,nam,dwfpc,fpc) %>%\n",
    "        dplyr::filter(nam > 0) %>%\n",
    "        dplyr::mutate(nam=as.factor(nam), group=as.factor(group))\n",
    "\n",
    "    # Fit linear model and perform get post hoc contrasts\n",
    "    linmod <- lm(dwfpc ~ group * nam, data=df)\n",
    "    print(summary(aov(dwfpc ~ group * nam, data=df)))\n",
    "    posthoc <- emmeans(linmod, pairwise ~ group | nam, adjust = \"tukey\")\n",
    "    print(posthoc)\n",
    "}\n",
    "\n",
    "f()"
   ]
  },
  {
   "cell_type": "markdown",
   "metadata": {
    "heading_collapsed": true,
    "hidden": true
   },
   "source": [
    "### Count NAMs in each group"
   ]
  },
  {
   "cell_type": "code",
   "execution_count": null,
   "metadata": {
    "ExecuteTime": {
     "end_time": "2021-05-16T21:28:04.919683Z",
     "start_time": "2021-05-16T21:28:04.845Z"
    },
    "hidden": true
   },
   "outputs": [],
   "source": [
    "f <- function() {   \n",
    "    # Get data\n",
    "    df <- read.csv('data/learning_data.csv') %>%\n",
    "        dplyr::select(sid,group,nam) %>%\n",
    "        dplyr::group_by(group, nam) %>%\n",
    "        dplyr::summarize(count=n()) %>%\n",
    "        dplyr::mutate(percentage=count/sum(count)*100) %>% \n",
    "        dplyr::ungroup() %>%\n",
    "        dplyr::mutate(\n",
    "            group=dplyr::recode(as.factor(group), '0'='IG', '1'='EG'),\n",
    "            nam=dplyr::recode(as.factor(nam), '0'='NAM-0', '1'='NAM-1', '2'='NAM-2', '3'='NAM-3')\n",
    "        )\n",
    "    \n",
    "    print(df)\n",
    "}\n",
    "\n",
    "f()"
   ]
  },
  {
   "cell_type": "markdown",
   "metadata": {
    "ExecuteTime": {
     "end_time": "2021-01-09T19:44:09.606713Z",
     "start_time": "2021-01-09T19:44:09.572Z"
    },
    "heading_collapsed": true,
    "hidden": true
   },
   "source": [
    "### Examine relationships between activity selection and NAM"
   ]
  },
  {
   "cell_type": "code",
   "execution_count": null,
   "metadata": {
    "ExecuteTime": {
     "end_time": "2021-05-16T21:31:07.504629Z",
     "start_time": "2021-05-16T21:31:06.586Z"
    },
    "hidden": true
   },
   "outputs": [],
   "source": [
    "f <- function() {\n",
    "    # Prepare data\n",
    "    df <- read.csv('data/clean_data.csv') %>%\n",
    "        dplyr::filter(trial<=60+250) %>%\n",
    "        dplyr::select(sid,group,trial,activity) %>% \n",
    "        dplyr::group_by(group,sid,activity) %>% \n",
    "        dplyr::summarize(count=n()) %>%\n",
    "        dplyr::ungroup() %>%\n",
    "        dplyr::mutate(\n",
    "            relt=(count-15)/250,\n",
    "            group = dplyr::recode(as.factor(group), '0'='IG', '1'='EG'),\n",
    "            sid = as.factor(sid)\n",
    "        )\n",
    "\n",
    "    # Get NAM labels\n",
    "    nam_df <- read.csv('data/nam_data.csv') %>%\n",
    "        dplyr::select(sid, nam) %>%\n",
    "        dplyr::mutate(\n",
    "            sid = as.factor(sid),\n",
    "            nam = as.factor(nam)\n",
    "        )\n",
    "\n",
    "    # Join datasets and exclude NAM0 cases\n",
    "    df <- dplyr::inner_join(df, nam_df, by='sid') %>%\n",
    "        dplyr::filter(nam != '0')\n",
    "    rm(nam_df)\n",
    "\n",
    "    # Join NAM1 and NAM2 groups\n",
    "    df$nam <- dplyr::recode(df$nam, '2'='1')\n",
    "\n",
    "    # Perform an ANOVA for each instruction group\n",
    "    for (i in c('IG','EG')) {\n",
    "        cat('\\nMixed ANOVA for group', i, '\\n=======================================')\n",
    "        subdf <- dplyr::filter(df, group==i)\n",
    "        print(summary(\n",
    "            aov(relt ~ nam * activity + Error(sid), data=subdf)\n",
    "        ), digits=6)\n",
    "    }\n",
    "}\n",
    "\n",
    "f()"
   ]
  },
  {
   "cell_type": "markdown",
   "metadata": {
    "heading_collapsed": true,
    "hidden": true
   },
   "source": [
    "## Relationships between learning and self-challenge (SC)"
   ]
  },
  {
   "cell_type": "markdown",
   "metadata": {
    "heading_collapsed": true,
    "hidden": true
   },
   "source": [
    "### Performance as a function of SC"
   ]
  },
  {
   "cell_type": "code",
   "execution_count": null,
   "metadata": {
    "ExecuteTime": {
     "end_time": "2021-05-22T00:56:04.918570Z",
     "start_time": "2021-05-22T00:56:04.828Z"
    },
    "code_folding": [],
    "hidden": true,
    "run_control": {
     "marked": false
    },
    "scrolled": false
   },
   "outputs": [],
   "source": [
    "f <- function() {\n",
    "    # Prepare data\n",
    "    df <- read.csv('data/learning_data.csv') %>%\n",
    "        # we exclude people who did not master anything\n",
    "        dplyr::filter(nam > 0) %>%\n",
    "        dplyr::select(sid, group, nam, dwfpc, dwipc, fpc, ipc, sc_flat) %>%\n",
    "        dplyr::mutate(\n",
    "            group = dplyr::recode(as.factor(group), '0'='IG', '1'='EG'),\n",
    "            nam = as.factor(nam),\n",
    "            sid = as.factor(sid),\n",
    "            sc = (sc_flat-mean(sc_flat))/sd(sc_flat),\n",
    "            dwfpc = dwfpc,\n",
    "            fpc = fpc,\n",
    "            dwipc = dwipc,\n",
    "            ipc = ipc\n",
    "        ) %>%\n",
    "        dplyr::mutate(sc2 = sc^2)\n",
    "\n",
    "    # Fit linear model\n",
    "    linmod.flat <-lm(dwfpc ~ dwipc + group + sc, data=df)\n",
    "    \n",
    "    # Fit linear-quadratic model\n",
    "    linmod.quad <-lm(dwfpc ~ dwipc + group + sc + sc2, data=df)\n",
    "    \n",
    "    # Print quadratic model summary\n",
    "    print(summary(linmod.quad), digits=6)\n",
    "    \n",
    "    # Print quadratic model summary of unweighted scores for comparison\n",
    "    print(summary(lm(fpc ~ ipc + group + sc + sc2, data=df)), digits=6)\n",
    "    \n",
    "    # Compaire AIC\n",
    "    delta_aic <- AIC(linmod.flat) - AIC(linmod.quad)\n",
    "    cat('Delta AIC =', delta_aic)\n",
    "    \n",
    "}\n",
    "\n",
    "f()"
   ]
  },
  {
   "cell_type": "markdown",
   "metadata": {
    "heading_collapsed": true,
    "hidden": true
   },
   "source": [
    "### Model of SC as a function of instruction and NAM"
   ]
  },
  {
   "cell_type": "code",
   "execution_count": null,
   "metadata": {
    "ExecuteTime": {
     "end_time": "2021-05-16T21:40:05.317546Z",
     "start_time": "2021-05-16T21:40:05.226Z"
    },
    "hidden": true
   },
   "outputs": [],
   "source": [
    "f <- function() {\n",
    "    # Prepare data\n",
    "    df <- read.csv('data/learning_data.csv') %>%\n",
    "        dplyr::filter(nam > 0) %>%\n",
    "        dplyr::select(sid, group, nam, sc_flat) %>%\n",
    "        dplyr::mutate(\n",
    "            group = dplyr::recode(as.factor(group), '0'='IG', '1'='EG'),\n",
    "            nam = as.factor(nam),\n",
    "            sid = as.factor(sid)\n",
    "        )\n",
    "\n",
    "    # Fit linear model\n",
    "    linmod <-lm(sc_flat ~ group * nam, data=df)\n",
    "    print(summary(linmod))\n",
    "    \n",
    "    # Compare SC between groups across different levels of NAM\n",
    "    emmeans(linmod, pairwise ~ group | nam, adjust='Tukey')\n",
    "\n",
    "}\n",
    "\n",
    "f()"
   ]
  },
  {
   "cell_type": "markdown",
   "metadata": {
    "ExecuteTime": {
     "end_time": "2020-12-13T20:14:03.173582Z",
     "start_time": "2020-12-13T20:14:03.157Z"
    },
    "heading_collapsed": true
   },
   "source": [
    "# Section 3"
   ]
  },
  {
   "cell_type": "markdown",
   "metadata": {
    "heading_collapsed": true,
    "hidden": true
   },
   "source": [
    "## Model comparisons"
   ]
  },
  {
   "cell_type": "code",
   "execution_count": null,
   "metadata": {
    "ExecuteTime": {
     "end_time": "2021-05-21T23:55:50.218628Z",
     "start_time": "2021-05-21T23:55:49.754Z"
    },
    "code_folding": [],
    "hidden": true
   },
   "outputs": [],
   "source": [
    "f <- function() {\n",
    "    # Compute baseline (random-choice) model likelihood and AIC\n",
    "    log_lik <- rep(.25, times=250) %>% log() %>% sum()\n",
    "    n_params <- 0\n",
    "    baseline_AIC <- -2*log_lik + 2*n_params\n",
    "    options(digits=6)\n",
    "    cat('Baseline AIC =', baseline_AIC)\n",
    "\n",
    "    # Load data\n",
    "    df.long <- tibble::as_tibble(read.csv('data/model_results/param_fits_clean.csv')) %>%\n",
    "        dplyr::mutate(sid=as.factor(sid)) %>%\n",
    "        dplyr::filter(!stringr::str_detect(vars, 'relt')) %>%\n",
    "        dplyr::filter(!stringr::str_detect(vars, 'abst')) %>%\n",
    "        dplyr::select(sid,vars,aic,group) %>%\n",
    "        dplyr::mutate(\n",
    "            vars=dplyr::recode(vars, 'rpc,rlp'='biv'),\n",
    "            group=dplyr::recode(as.factor(group), '0'='IG', '1'='EG')\n",
    "        )\n",
    "\n",
    "    # Get AIC means and SD per model form\n",
    "    message('Average AIC scores per model form')\n",
    "    df.long %>% \n",
    "        dplyr::select(vars, group, aic) %>%\n",
    "#         dplyr::group_by(vars, group) %>% # group two way (by form and group)\n",
    "        dplyr::group_by(vars) %>% # group one way (by form)\n",
    "        dplyr::summarize(mean=mean(aic), std=sd(aic)) %>% \n",
    "        ungroup() %>% print\n",
    "    message('ANOVA of AIC ~ GROUP x VARS')\n",
    "    aov(lm(aic ~ group*vars, data=df.long)) %>% summary() %>% print(digits=6)\n",
    "\n",
    "    # Contrast bivariate models' AIC to the best univariate\n",
    "    df.wide <- tidyr::pivot_wider(df.long, id_cols=c(sid, group), names_from=vars, values_from=aic) %>% \n",
    "        dplyr::mutate(min_uni_aic=pmin(rpc, rlp)) %>%\n",
    "        dplyr::mutate(\n",
    "            biv_best = biv < min_uni_aic,\n",
    "            biv_adv = min_uni_aic - biv,\n",
    "        ) %>%\n",
    "        dplyr::mutate(two_points = biv_adv >= 2)\n",
    "\n",
    "#     # Print summaries\n",
    "    message('Useful stats')\n",
    "    df.wide %>% \n",
    "        dplyr::group_by(group) %>%\n",
    "        dplyr::summarize(\n",
    "            biv_best = mean(biv_best), \n",
    "            biv_two_points = mean(two_points),\n",
    "            mean_diff = mean(biv_adv),\n",
    "            std_diff = sd(biv_adv)\n",
    "        ) %>% print()\n",
    "    \n",
    "    # Compare bivariate to the best univariate model (Wilcoxon signed-rank test)\n",
    "    # The test is appropriate when the difference between repeated measures is asymmetrical and non-normal\n",
    "    message('[EG] Wilcoxon sign test (for testing hypothesis that difference in medians is 0)')\n",
    "    test_results <- dplyr::filter(df.wide, group=='EG') %>%\n",
    "        dplyr::select(sid, min_uni_aic, biv) %>%\n",
    "        tidyr::pivot_longer(cols=c('min_uni_aic', 'biv'), names_to='nvars', values_to='aic') %>%\n",
    "        dplyr::mutate(nvars=dplyr::recode(as.factor(nvars), 'min_uni_aic'='1', 'biv'='2')) %>%\n",
    "        rstatix::sign_test(aic~nvars) %>% add_significance() %>%\n",
    "        print(digits=6)\n",
    "\n",
    "    message('[IG] Wilcoxon sign test (for testing hypothesis that difference in medians is 0)')\n",
    "    test_results <- dplyr::filter(df.wide, group=='IG') %>%\n",
    "        dplyr::select(sid, min_uni_aic, biv) %>%\n",
    "        tidyr::pivot_longer(cols=c('min_uni_aic', 'biv'), names_to='nvars', values_to='aic') %>%\n",
    "        dplyr::mutate(nvars=dplyr::recode(as.factor(nvars), 'min_uni_aic'='1', 'biv'='2')) %>%\n",
    "        rstatix::sign_test(aic~nvars) %>% add_significance() %>%\n",
    "        print(digits=6)\n",
    "\n",
    "#     # Compare bivariate to the best univariate model (Mann-Whitney U)\n",
    "#     # This test is less appropriate, because we have paired AIC scores (repeated measures)\n",
    "#     test_results <- with(df.wide, wilcox.test(min_uni_aic, biv))\n",
    "}\n",
    "\n",
    "f()"
   ]
  },
  {
   "cell_type": "markdown",
   "metadata": {
    "hidden": true
   },
   "source": [
    "## Analyses of fitted coefficients"
   ]
  },
  {
   "cell_type": "markdown",
   "metadata": {
    "hidden": true
   },
   "source": [
    "### Descriptive stats"
   ]
  },
  {
   "cell_type": "code",
   "execution_count": null,
   "metadata": {
    "ExecuteTime": {
     "end_time": "2021-05-21T23:53:07.428135Z",
     "start_time": "2021-05-21T23:53:07.090Z"
    },
    "hidden": true
   },
   "outputs": [],
   "source": [
    "f <- function() {\n",
    "    # Prepare data\n",
    "    df <- tibble::as_tibble(read.csv('data/model_results/param_fits_clean.csv')) %>%\n",
    "        dplyr::filter(vars=='rpc,rlp') %>%\n",
    "        dplyr::select(sid,group,nam,rpc,rlp,tau) %>%\n",
    "        dplyr::mutate(\n",
    "            sid=as.factor(sid),\n",
    "            group=dplyr::recode(as.factor(group), '0'='IG', '1'='EG'),\n",
    "            nam=as.factor(nam)\n",
    "        ) %>%\n",
    "        # normalize by Euclidean norm\n",
    "        dplyr::mutate(norm=sqrt(rpc^2+rlp^2)) %>%\n",
    "        dplyr::mutate(\n",
    "            nrpc = rpc / norm,\n",
    "            nrlp = rlp / norm\n",
    "        )\n",
    "\n",
    "    # Print coefficient stats\n",
    "    message('Descriptive stats')\n",
    "    df.stats <- dplyr::group_by(df, group) %>%\n",
    "        dplyr::summarize(\n",
    "            dplyr::across(c(nrpc,nrlp), list(mean=mean, std=sd), .names='{.col}.{.fn}')\n",
    "        )\n",
    "    print(df.stats, width=Inf)\n",
    "\n",
    "    # Examine correlations\n",
    "    message('Correlations')\n",
    "    for (g in c('IG','EG')) {\n",
    "        cat('Correlation analysis in', g, '\\n')\n",
    "        print(\n",
    "            cor.test(data=dplyr::filter(df, group==g), ~ nrpc + nrlp, method = \"pearson\")\n",
    "        )\n",
    "    }\n",
    "\n",
    "    # Compare coefficients between groups with ANOVA\n",
    "    message('ANOVA of PC between groups')\n",
    "    lm(nrpc ~ group, data=df) %>% aov() %>% summary() %>% print(digits=6)\n",
    "    message('ANOVA of LP between groups')\n",
    "    lm(nrlp ~ group, data=df) %>% aov() %>% summary() %>% print(digits=6)\n",
    "}\n",
    "\n",
    "f()"
   ]
  },
  {
   "cell_type": "markdown",
   "metadata": {
    "heading_collapsed": true,
    "hidden": true
   },
   "source": [
    "### Coefficients and learning"
   ]
  },
  {
   "cell_type": "code",
   "execution_count": null,
   "metadata": {
    "ExecuteTime": {
     "end_time": "2021-05-21T23:54:55.798168Z",
     "start_time": "2021-05-21T23:54:55.623Z"
    },
    "hidden": true,
    "scrolled": false
   },
   "outputs": [],
   "source": [
    "f <- function() {\n",
    "    # Prepare data\n",
    "    df <- tibble::as_tibble(read.csv('data/model_results/param_fits_clean.csv')) %>%\n",
    "        dplyr::filter(vars=='rpc,rlp') %>%\n",
    "        dplyr::select(sid,group,nam,rpc,rlp,tau) %>%\n",
    "        dplyr::mutate(\n",
    "            sid=as.factor(sid),\n",
    "            group=dplyr::recode(as.factor(group), '0'='IG', '1'='EG'),\n",
    "            nam=as.factor(nam)\n",
    "        ) %>%\n",
    "        # normalize by Euclidean norm\n",
    "        dplyr::mutate(norm=sqrt(rpc^2+rlp^2)) %>%\n",
    "        dplyr::mutate(\n",
    "            nrpc = rpc / norm,\n",
    "            nrlp = rlp / norm\n",
    "        )\n",
    "\n",
    "    df <- tibble::as_tibble(read.csv('data/learning_data.csv')) %>%\n",
    "        dplyr::select(sid,progressive,dwfpc,dwipc,fpc,ipc,sc_flat) %>%\n",
    "        dplyr::mutate(sid=as.factor(sid)) %>%\n",
    "        dplyr::inner_join(df, by='sid') %>%\n",
    "        dplyr::mutate(\n",
    "            z_dwipc = (dwipc - mean(dwipc)) / sd(dwipc),\n",
    "            z_nrpc = (nrpc - mean(nrpc)) / sd(nrpc),\n",
    "            z_nrlp = (nrlp - mean(nrlp)) / sd(nrlp),\n",
    "            abs_nrlp = abs(nrlp)\n",
    "        ) %>% \n",
    "        dplyr::mutate(z_nrlp2=z_nrlp^2)\n",
    "\n",
    "    # Compare coefficients between groups with ANOVA\n",
    "    message('Linear model of learning as a function of coefs')\n",
    "    lm(dwfpc ~ dwipc + nrpc + nrlp, data=df) %>% summary() %>% print(digits=6)\n",
    "#     lm(nrpc ~ abs_nrlp, data=df) %>% summary() %>% print(digits=6)\n",
    "}\n",
    "\n",
    "f()"
   ]
  },
  {
   "cell_type": "markdown",
   "metadata": {
    "heading_collapsed": true,
    "hidden": true
   },
   "source": [
    "### LP- vs PC-dominant (task selection)"
   ]
  },
  {
   "cell_type": "code",
   "execution_count": null,
   "metadata": {
    "ExecuteTime": {
     "end_time": "2021-05-21T23:40:01.836822Z",
     "start_time": "2021-05-21T23:39:59.984Z"
    },
    "hidden": true,
    "scrolled": false
   },
   "outputs": [],
   "source": [
    "f <- function() {\n",
    "    # Prepare coefficients data\n",
    "    df <- tibble::as_tibble(read.csv('data/model_results/param_fits_clean_.csv')) %>%\n",
    "        dplyr::filter(vars=='rpc,rlp') %>%\n",
    "        dplyr::select(sid,group,nam,rpc,rlp,tau) %>%\n",
    "        dplyr::mutate(\n",
    "            sid=as.factor(sid),\n",
    "            group=dplyr::recode(as.factor(group), '0'='IG', '1'='EG'),\n",
    "#             nam=as.factor(nam)\n",
    "        ) %>%\n",
    "        # normalize by Euclidean norm\n",
    "        dplyr::mutate(norm=sqrt(rpc^2+rlp^2)) %>%\n",
    "        dplyr::mutate(\n",
    "            nrpc = rpc / norm,\n",
    "            nrlp = rlp / norm\n",
    "        ) %>%\n",
    "        dplyr::mutate(\n",
    "                nrpc_bin = cut(nrpc, breaks=3, labels=c(1,2,3)),\n",
    "                nrlp_bin = cut(nrlp, breaks=3, labels=c(1,2,3)),\n",
    "        ) %>%\n",
    "        dplyr::mutate(\n",
    "                nrpc_dom = (nrpc_bin==1) * (nrlp_bin==2),\n",
    "                nrlp_dom = (nrpc_bin==2) * (nrlp_bin==3),\n",
    "            )\n",
    "    \n",
    "    df %>% \n",
    "        dplyr::group_by(nrlp_dom) %>% \n",
    "        dplyr::summarize(\n",
    "            nam32_prop = sum(nam >= 2) / n(),\n",
    "#             nam2_prop = sum(nam == 2) / n(),\n",
    "            nam3_prop = sum(nam == 3) / n()\n",
    "        ) %>% print()\n",
    "\n",
    "    df2 <- read.csv('data/clean_data.csv') %>%\n",
    "        dplyr::filter(trial <= 60+250) %>%\n",
    "        dplyr::select(sid, trial, activity) %>% \n",
    "        dplyr::group_by(sid, activity) %>% \n",
    "        dplyr::summarize(count=n()) %>%\n",
    "        dplyr::ungroup() %>%\n",
    "        dplyr::mutate(\n",
    "            relt = count-15,\n",
    "            sid = as.factor(sid)\n",
    "        ) %>%\n",
    "        dplyr::select(sid, activity, relt) %>%\n",
    "        tidyr::spread(activity, relt)\n",
    "\n",
    "    # Join datasets\n",
    "    df <- dplyr::inner_join(df, df2, by='sid') %>%\n",
    "        dplyr::select(sid, group, nrpc_dom, nrlp_dom, A3, A4) %>%\n",
    "        dplyr::filter(nrpc_dom | nrlp_dom)\n",
    "    rm(df2)\n",
    "    print(head(df))\n",
    "    \n",
    "    # Print group sizes\n",
    "    dplyr::group_by(df, group) %>% dplyr::summarize(n1=sum(nrpc_dom), n2=sum(nrlp_dom)) %>% print()\n",
    "    \n",
    "    # Pivot-longer for modeling\n",
    "    df <- dplyr::select(df, sid, group, nrlp_dom, A3, A4) %>%\n",
    "        tidyr::pivot_longer(cols=c(A3,A4), names_to='activity', values_to='ntrials') %>%\n",
    "        dplyr::mutate(drive = dplyr::recode(as.factor(nrlp_dom), '0'='PC', '1'='LP')) %>%\n",
    "        within(drive <- relevel(drive, ref = 'PC'))\n",
    "    print(head(df))\n",
    "    \n",
    "    # Fit linear model\n",
    "    message('[IG] Linear model of time allocation as a function of Activity (A3, A4) and Drive (PC, LP)')\n",
    "    linmod <- lm(ntrials ~ activity*drive, data=dplyr::filter(df, group=='IG')) %>% summary() %>% print(digits=6)\n",
    "    \n",
    "    message('[EG] Linear model of time allocation as a function of Activity (A3, A4) and Drive (PC, LP)')\n",
    "    linmod <- lm(ntrials ~ activity*drive, data=dplyr::filter(df, group=='EG')) %>% summary() %>% print(digits=6)\n",
    "}\n",
    "\n",
    "f()"
   ]
  },
  {
   "cell_type": "markdown",
   "metadata": {
    "heading_collapsed": true
   },
   "source": [
    "# Supplementary analyses"
   ]
  },
  {
   "cell_type": "markdown",
   "metadata": {
    "heading_collapsed": true,
    "hidden": true
   },
   "source": [
    "## Demographics"
   ]
  },
  {
   "cell_type": "code",
   "execution_count": null,
   "metadata": {
    "ExecuteTime": {
     "end_time": "2021-05-21T14:15:08.070399Z",
     "start_time": "2021-05-21T14:15:07.945Z"
    },
    "hidden": true
   },
   "outputs": [],
   "source": [
    "f <- function() {\n",
    "    dft <- rbind(\n",
    "        tibble::as_tibble(read.csv('data/raw/ig_extra.csv')), \n",
    "        tibble::as_tibble(read.csv('data/raw/eg_extra.csv'))\n",
    "    ) %>%\n",
    "      dplyr::select(c(age, gender, race))\n",
    "\n",
    "    median(dft$age, na.rm = TRUE) %>% print()\n",
    "    mean(dft$age, na.rm= TRUE) %>% print()\n",
    "    range(dft$age, na.rm = TRUE) %>% print()\n",
    "\n",
    "    group_by(dft, race) %>% count() %>% print()\n",
    "    group_by(dft, age) %>% count() %>% print()\n",
    "\n",
    "}\n",
    "\n",
    "f()"
   ]
  },
  {
   "cell_type": "markdown",
   "metadata": {
    "heading_collapsed": true,
    "hidden": true
   },
   "source": [
    "## Comparison of performance between excluded and retained participants"
   ]
  },
  {
   "cell_type": "code",
   "execution_count": null,
   "metadata": {
    "ExecuteTime": {
     "end_time": "2021-05-21T14:24:17.025505Z",
     "start_time": "2021-05-21T14:24:15.729Z"
    },
    "hidden": true,
    "run_control": {
     "marked": false
    },
    "scrolled": false
   },
   "outputs": [],
   "source": [
    "f <- function() {\n",
    "    # Load nam dataset\n",
    "    df <- tbl_df(read.csv('data/unclean_data.csv')) %>%\n",
    "    dplyr::mutate(\n",
    "        correct = as.numeric(correct=='True'),\n",
    "        sid = as.factor(sid), \n",
    "        group = dplyr::recode(as.factor(group), '0'='IG', '1'='EG')\n",
    "    ) %>%\n",
    "#     dplyr::filter(rt<1000*60) %>% # Apply this filtering for response time tests only\n",
    "    dplyr::select(sid, activity, correct, rt, alloc_bias, resp_bias) %>%\n",
    "    dplyr::group_by(sid) %>%\n",
    "    dplyr::summarize(\n",
    "        pc = mean(correct),\n",
    "        wpc = mean(correct[activity=='A1'])/6 + mean(correct[activity=='A2'])/3 + mean(correct[activity=='A3'])/2,\n",
    "        rt = mean(rt), \n",
    "        ab=alloc_bias[1], \n",
    "        rb=resp_bias[1]) %>% \n",
    "    dplyr::ungroup() %>%\n",
    "    dplyr::mutate(\n",
    "        high_rb = rb > mean(rb) + 2*sd(rb)) %>%\n",
    "    dplyr::mutate(outlier = as.factor(high_rb))\n",
    "    \n",
    "    # Summarize outliers by response-bias vs rest\n",
    "    dplyr::group_by(df, high_rb) %>% \n",
    "    dplyr::summarize(\n",
    "        wpc.mean = mean(wpc), \n",
    "        wpc.sd = sd(wpc),\n",
    "        rt.mean = mean(rt),\n",
    "        rt.std = sd(rt)\n",
    "    ) %>%\n",
    "    print()\n",
    "    \n",
    "    # Compare RT\n",
    "    message('Compare RTs')\n",
    "    t.test(\n",
    "        dplyr::filter(df, high_rb==TRUE)$rt,\n",
    "        dplyr::filter(df, high_rb==FALSE)$rt,\n",
    "        var.equal = FALSE) %>% print()\n",
    "    \n",
    "    # Compare PC\n",
    "    message('Compare PCs')\n",
    "    t.test(\n",
    "        dplyr::filter(df, high_rb==TRUE)$wpc,\n",
    "        dplyr::filter(df, high_rb==FALSE)$wpc,\n",
    "        var.equal = FALSE) %>% print()\n",
    "}\n",
    "\n",
    "f()"
   ]
  },
  {
   "cell_type": "markdown",
   "metadata": {
    "heading_collapsed": true,
    "hidden": true
   },
   "source": [
    "## Subjective ratings analyses"
   ]
  },
  {
   "cell_type": "markdown",
   "metadata": {
    "heading_collapsed": true,
    "hidden": true
   },
   "source": [
    "### Subjective and objective progress"
   ]
  },
  {
   "cell_type": "code",
   "execution_count": null,
   "metadata": {
    "ExecuteTime": {
     "end_time": "2021-05-21T16:33:58.964886Z",
     "start_time": "2021-05-21T16:33:56.665Z"
    },
    "hidden": true,
    "scrolled": false
   },
   "outputs": [],
   "source": [
    "f <- function() {\n",
    "    # Load nam dataset\n",
    "    nam_df <- tibble::as_tibble(read.csv('data/nam_data.csv')) %>% \n",
    "        dplyr::select(nam,sid) %>% \n",
    "        dplyr::distinct() %>% \n",
    "        dplyr::mutate(\n",
    "            sid=as.factor(sid), \n",
    "            nam=as.factor(nam))\n",
    "\n",
    "    # Load self-reports dataset and merge with NAM data\n",
    "    df <- tibble::as_tibble(read.csv('data/combined_extra.csv')) %>% \n",
    "        dplyr::mutate(\n",
    "            sid = as.factor(sid), \n",
    "            group = dplyr::recode(as.factor(group), '0'='IG', '1'='EG')) %>% \n",
    "        dplyr::inner_join(nam_df, by='sid')\n",
    "\n",
    "    # Show group stats\n",
    "    dplyr::filter(df, item=='prog') %>%\n",
    "        dplyr::group_by(group, activity, item) %>% \n",
    "        dplyr::summarize(\n",
    "            mean = mean(rating),\n",
    "            std = sd(rating)\n",
    "        ) %>%\n",
    "    print(digits=5)\n",
    "    \n",
    "    # Select normalized data for one questionnaire item (interest)\n",
    "    df <- dplyr::filter(df, item=='prog', nam!=0) %>% \n",
    "        dplyr::rename(prog = rating_norm)\n",
    "\n",
    "    # Load and join progress on activities data\n",
    "    df2 <- tbl_df(read.csv('data/model_data.csv')) %>% \n",
    "        dplyr::select(sid, trial, pc1, pc2, pc3, pc4) %>%\n",
    "        dplyr::filter(trial==250 | trial==1)\n",
    "    \n",
    "    first <- dplyr::filter(df2, trial==1) %>% \n",
    "        dplyr::select(sid,pc1,pc2,pc3,pc4) %>%\n",
    "        tibble::column_to_rownames('sid')\n",
    "    last <- dplyr::filter(df2, trial==250) %>% \n",
    "        dplyr::select(sid,pc1,pc2,pc3,pc4) %>%\n",
    "        tibble::column_to_rownames('sid')\n",
    "    df2 <- last - first \n",
    "    \n",
    "    df2 <- tibble::rownames_to_column(df2, var = 'sid') %>% \n",
    "        tibble::as_tibble() %>%\n",
    "        tidyr::pivot_longer(\n",
    "            cols = c(pc1, pc2, pc3, pc4),\n",
    "            names_to = c('.value', 'activity'),\n",
    "            names_sep = '(?=\\\\d)'\n",
    "        ) %>%\n",
    "        dplyr::mutate(\n",
    "            sid = as.factor(sid), \n",
    "            activity = dplyr::recode(as.factor(activity), '1'='A1', '2'='A2', '3'='A3', '4'='A4')\n",
    "        ) %>%\n",
    "        dplyr::select(sid,activity,pc)\n",
    "    \n",
    "    # Join datasets\n",
    "    df <- dplyr::left_join(df, df2, by=c('sid'='sid', 'activity'='activity'))\n",
    "    df <- within(df, nam <- relevel(nam, ref = '2'))\n",
    "    \n",
    "    # IG correlation\n",
    "    message('Subjective and objective progress made in IG')\n",
    "    df.IG <- dplyr::filter(df, group=='IG')\n",
    "    cor.test(df.IG$prog, df.IG$pc) %>% print(digits=6)\n",
    "    \n",
    "    # EG correlation\n",
    "    message('Subjective and objective progress made in EG')\n",
    "    df.EG <- dplyr::filter(df, group=='EG')\n",
    "    cor.test(df.EG$prog, df.EG$pc) %>% print(digits=6)\n",
    "}\n",
    "\n",
    "f()"
   ]
  },
  {
   "cell_type": "markdown",
   "metadata": {
    "heading_collapsed": true,
    "hidden": true
   },
   "source": [
    "### Subjective interest and objective time spent"
   ]
  },
  {
   "cell_type": "code",
   "execution_count": null,
   "metadata": {
    "ExecuteTime": {
     "end_time": "2021-05-21T16:41:05.477556Z",
     "start_time": "2021-05-21T16:41:03.430Z"
    },
    "hidden": true
   },
   "outputs": [],
   "source": [
    "f <- function() {\n",
    "    # Load nam dataset\n",
    "    nam_df <- tibble::as_tibble(read.csv('data/nam_data.csv')) %>% \n",
    "        dplyr::select(nam,sid) %>% \n",
    "        dplyr::distinct() %>% \n",
    "        dplyr::mutate(\n",
    "            sid=as.factor(sid), \n",
    "            nam=as.factor(nam))\n",
    "\n",
    "    # Load self-reports dataset and merge with NAM data\n",
    "    df <- tibble::as_tibble(read.csv('data/combined_extra.csv')) %>% \n",
    "        dplyr::mutate(\n",
    "            sid = as.factor(sid), \n",
    "            group = dplyr::recode(as.factor(group), '0'='IG', '1'='EG')) %>% \n",
    "        dplyr::inner_join(nam_df, by='sid')\n",
    "\n",
    "    # Show group stats\n",
    "    dplyr::filter(df, item=='int') %>%\n",
    "        dplyr::group_by(group, activity, item) %>% \n",
    "        dplyr::summarize(\n",
    "            mean = mean(rating),\n",
    "            std = sd(rating)\n",
    "        ) %>%\n",
    "    print(digits=5)\n",
    "    \n",
    "    # Select normalized data for one questionnaire item (interest)\n",
    "    df <- dplyr::filter(df, item=='int', nam!=0) %>% \n",
    "        dplyr::rename(int = rating_norm)\n",
    "\n",
    "    # Load and join progress on activities data\n",
    "    df2 <- tbl_df(read.csv('data/model_data.csv')) %>% \n",
    "        dplyr::select(sid, trial, relt1, relt2, relt3, relt4) %>%\n",
    "        dplyr::filter(trial==250) %>%\n",
    "        tidyr::pivot_longer(\n",
    "            cols = c(relt1, relt2, relt3, relt4),\n",
    "            names_to = c('.value', 'activity'),\n",
    "            names_sep = '(?=\\\\d)'\n",
    "        ) %>%\n",
    "        dplyr::mutate(\n",
    "            sid = as.factor(sid), \n",
    "            activity = dplyr::recode(as.factor(activity), '1'='A1', '2'='A2', '3'='A3', '4'='A4')\n",
    "        ) %>%\n",
    "        dplyr::select(sid,activity,relt)\n",
    "    \n",
    "    # Join datasets\n",
    "    df <- dplyr::left_join(df, df2, by=c('sid'='sid', 'activity'='activity'))\n",
    "    df <- within(df, nam <- relevel(nam, ref = '2'))\n",
    "    \n",
    "    # IG correlation\n",
    "    message('Subjective and objective progress made in IG')\n",
    "    df.IG <- dplyr::filter(df, group=='IG')\n",
    "    cor.test(df.IG$int, df.IG$relt) %>% print(digits=6)\n",
    "    \n",
    "    # EG correlation\n",
    "    message('Subjective and objective progress made in EG')\n",
    "    df.EG <- dplyr::filter(df, group=='EG')\n",
    "    cor.test(df.EG$int, df.EG$relt) %>% print(digits=6)\n",
    "}\n",
    "\n",
    "f()"
   ]
  },
  {
   "cell_type": "markdown",
   "metadata": {
    "heading_collapsed": true,
    "hidden": true
   },
   "source": [
    "### Interest ratings"
   ]
  },
  {
   "cell_type": "code",
   "execution_count": null,
   "metadata": {
    "ExecuteTime": {
     "end_time": "2021-05-21T20:50:28.070238Z",
     "start_time": "2021-05-21T20:50:25.233Z"
    },
    "hidden": true
   },
   "outputs": [],
   "source": [
    "f <- function() {\n",
    "    # Load nam dataset\n",
    "    nam_df <- tbl_df(read.csv('data/nam_data.csv')) %>% \n",
    "        dplyr::select(nam,sid) %>% \n",
    "        dplyr::distinct() %>% \n",
    "        dplyr::mutate(\n",
    "            sid=as.factor(sid), \n",
    "            nam=as.factor(nam))\n",
    "\n",
    "    # Load self-reports dataset and merge with NAM data\n",
    "    df <- tbl_df(read.csv('data/combined_extra.csv')) %>% \n",
    "        dplyr::mutate(\n",
    "            sid = as.factor(sid), \n",
    "            group = dplyr::recode(as.factor(group), '0'='IG', '1'='EG')) %>% \n",
    "        dplyr::inner_join(nam_df, by='sid')\n",
    "\n",
    "    # Show group stats\n",
    "    dplyr::filter(df, item=='int') %>%\n",
    "        dplyr::group_by(group, activity, item) %>% \n",
    "        dplyr::summarize(\n",
    "            mean = mean(rating),\n",
    "            std = sd(rating)\n",
    "        ) %>%\n",
    "    print(digits=5)\n",
    "    \n",
    "    # Select normalized data for one questionnaire item (interest)\n",
    "    df <- dplyr::filter(df, item=='int', nam!=0) %>% \n",
    "        dplyr::rename(int = rating_norm)\n",
    "\n",
    "    # Load and join relative time on activities data\n",
    "    df2 <- tbl_df(read.csv('data/model_data.csv')) %>% \n",
    "        dplyr::select(sid, trial, relt1, relt2, relt3, relt4, pc1, pc2, pc3, pc4) %>%\n",
    "        dplyr::filter(trial==250) %>%\n",
    "        tidyr::pivot_longer(\n",
    "            cols = c(relt1, relt2, relt3, relt4, pc1, pc2, pc3, pc4),\n",
    "            names_to = c('.value', 'activity'),\n",
    "            names_sep = '(?=\\\\d)'\n",
    "        ) %>%\n",
    "        dplyr::mutate(\n",
    "            sid = as.factor(sid), \n",
    "            activity = dplyr::recode(as.factor(activity), '1'='A1', '2'='A2', '3'='A3', '4'='A4')\n",
    "        ) %>%\n",
    "        dplyr::select(sid,activity,relt,pc)\n",
    "    \n",
    "    # Join datasets\n",
    "    df <- dplyr::left_join(df, df2, by=c('sid'='sid', 'activity'='activity'))\n",
    "    df <- within(df, nam <- relevel(nam, ref = '2'))\n",
    "    \n",
    "    # Fit linear model\n",
    "    lm(int ~ (relt + pc) * group, data=df) %>% summary() %>% print(digits=6)\n",
    "}\n",
    "\n",
    "f()"
   ]
  },
  {
   "cell_type": "markdown",
   "metadata": {
    "heading_collapsed": true,
    "hidden": true
   },
   "source": [
    "## Mastery criteria "
   ]
  },
  {
   "cell_type": "code",
   "execution_count": null,
   "metadata": {
    "ExecuteTime": {
     "end_time": "2021-05-21T18:05:58.541984Z",
     "start_time": "2021-05-21T18:05:58.276Z"
    },
    "hidden": true,
    "scrolled": false
   },
   "outputs": [],
   "source": [
    "f <- function() {\n",
    "    # Load and clean up data\n",
    "    dft <- tibble::as_tibble(read.csv('data/mcrits.csv')) %>%\n",
    "        dplyr::mutate(\n",
    "            sid = as.factor(sid),\n",
    "            group = dplyr::recode(as.factor(group), '0'='IG', '1'='EG'),\n",
    "            activity = dplyr::recode(as.factor(activity), '1'='A1', '2'='A2', '3'='A3', '4'='A4'),\n",
    "            crit_val = as.factor(crit_val),\n",
    "            mastery = as.factor(mastery)\n",
    "        ) %>%\n",
    "    print()\n",
    "\n",
    "    # Contingency tables\n",
    "    xtabs(~mastery + group, data = dft) %>% print()\n",
    "    xtabs(~mastery + crit_val, data = dft) %>% print()\n",
    "    xtabs(~mastery + activity, data = dft) %>% print()\n",
    "\n",
    "    # Logistic model for each task\n",
    "    contrasts(dft$crit_val) <- contr.sdif(5)\n",
    "    \n",
    "    message('A1')\n",
    "    logmod <- glm(mastery ~ group * crit_val, data=filter(dft, activity=='A1'), family=\"binomial\")\n",
    "    summary(logmod) %>% print(digits=6)\n",
    "    \n",
    "    message('A2')\n",
    "    logmod <- glm(mastery ~ group * crit_val, data=filter(dft, activity=='A2'), family=\"binomial\")\n",
    "    summary(logmod) %>% print(digits=6)\n",
    "    \n",
    "    message('A3')\n",
    "    logmod <- glm(mastery ~ group * crit_val, data=filter(dft, activity=='A3'), family=\"binomial\")\n",
    "    summary(logmod) %>% print(digits=6)\n",
    "    \n",
    "    message('A4')\n",
    "    logmod <- glm(mastery ~ group * crit_val, data=filter(dft, activity=='A4'), family=\"binomial\")\n",
    "    summary(logmod) %>% print(digits=6)\n",
    "}\n",
    "\n",
    "f()"
   ]
  },
  {
   "cell_type": "markdown",
   "metadata": {
    "heading_collapsed": true,
    "hidden": true
   },
   "source": [
    "## Understatnding SC"
   ]
  },
  {
   "cell_type": "markdown",
   "metadata": {
    "heading_collapsed": true,
    "hidden": true
   },
   "source": [
    "### SC ~ preference + preference^2"
   ]
  },
  {
   "cell_type": "code",
   "execution_count": null,
   "metadata": {
    "ExecuteTime": {
     "end_time": "2021-05-21T19:23:37.327867Z",
     "start_time": "2021-05-21T19:23:35.019Z"
    },
    "hidden": true,
    "scrolled": false
   },
   "outputs": [],
   "source": [
    "stargazerize <- function(model) {\n",
    "    model_vars <- formula(model) %>% all.vars() %>% prepend(values='Constant', before = 1)\n",
    "    model_vars <- model_vars[c(1,3,4)] %>% unlist(use.names=FALSE)\n",
    "    tbl <- stargazer(model,\n",
    "        type = 'text', \n",
    "        omit.stat = 'all',\n",
    "        report = ('vctp*'),\n",
    "        order = model_vars,\n",
    "        single.row=TRUE) %>% \n",
    "    toString()\n",
    "#     display(data=tbl)\n",
    "}\n",
    "\n",
    "\n",
    "f <- function() {\n",
    "    # Get learning data\n",
    "    df1 <- tibble::as_tibble(read.csv('data/learning_data.csv')) %>%\n",
    "        # we exclude people who did not master anything\n",
    "        dplyr::filter(nam > 0) %>%\n",
    "        dplyr::select(sid, group, nam, dwfpc, dwipc, fpc, ipc, sc_flat) %>%\n",
    "        dplyr::mutate(\n",
    "            group = dplyr::recode(as.factor(group), '0'='IG', '1'='EG'),\n",
    "            nam = as.factor(nam),\n",
    "            sid = as.factor(sid),\n",
    "            z_sc = (sc_flat-mean(sc_flat))/sd(sc_flat)\n",
    "        ) %>%\n",
    "        dplyr::mutate(z_sc2 = z_sc^2)\n",
    "    \n",
    "    # Get time allocation data\n",
    "    df2 <- tibble::as_tibble(read.csv('data/clean_data.csv')) %>%\n",
    "        dplyr::filter(trial<=60+250) %>%\n",
    "        dplyr::select(sid,group,trial,activity) %>% \n",
    "        dplyr::group_by(group,sid,activity) %>% \n",
    "        dplyr::summarize(count=n()) %>%\n",
    "        dplyr::ungroup() %>%\n",
    "        dplyr::mutate(\n",
    "            relt=(count-15)/250,\n",
    "            group = dplyr::recode(as.factor(group), '0'='IG', '1'='EG'),\n",
    "            sid = as.factor(sid)\n",
    "        ) %>% \n",
    "        dplyr::select(sid, activity, relt) %>%\n",
    "        tidyr::pivot_wider(names_from = activity, values_from = relt)\n",
    "    \n",
    "    # Join datasets\n",
    "    df <- dplyr::left_join(df1, df2, by=c('sid'='sid')) %>% \n",
    "    # and compute pairwise preferences\n",
    "        dplyr::mutate(\n",
    "            A2A1 = A2 - A1,\n",
    "            A3A1 = A3 - A1,\n",
    "            A3A2 = A3 - A2,\n",
    "            A4A1 = A4 - A1,\n",
    "            A4A2 = A4 - A2,\n",
    "            A4A3 = A4 - A3\n",
    "        ) %>%\n",
    "        dplyr::mutate(\n",
    "            z_A2A1 = (A2A1 - mean(A2A1))/sd(A2A1),\n",
    "            z_A3A1 = (A3A1 - mean(A3A1))/sd(A3A1),\n",
    "            z_A3A2 = (A3A2 - mean(A3A2))/sd(A3A2),\n",
    "            z_A4A1 = (A4A1 - mean(A4A1))/sd(A4A1),\n",
    "            z_A4A2 = (A4A2 - mean(A4A2))/sd(A4A2),\n",
    "            z_A4A3 = (A4A3 - mean(A4A3))/sd(A4A3)\n",
    "        ) %>%\n",
    "        dplyr::mutate(\n",
    "            z_A2A1_2 = z_A2A1^2,\n",
    "            z_A3A1_2 = z_A3A1^2,\n",
    "            z_A3A2_2 = z_A3A2^2,\n",
    "            z_A4A1_2 = z_A4A1^2,\n",
    "            z_A4A2_2 = z_A4A2^2,\n",
    "            z_A4A3_2 = z_A4A3^2\n",
    "        ) %>%\n",
    "        print()\n",
    "\n",
    "    # A2 preference\n",
    "    message('Quadratic model of SC as a function of A2 vs A1 preference')\n",
    "    linmod <-lm(sc_flat ~ z_A2A1 + z_A2A1_2, data=df) %>% stargazerize()\n",
    "    \n",
    "    # A3 preference\n",
    "    message('Quadratic model of SC as a function of A3 vs A1 preference')\n",
    "    linmod <-lm(sc_flat ~ z_A3A1 + z_A3A1_2, data=df) %>% stargazerize()\n",
    "    \n",
    "    message('Quadratic model of SC as a function of A3 vs A2 preference')\n",
    "    linmod <-lm(sc_flat ~ z_A3A2 + z_A3A2_2, data=df) %>% stargazerize()\n",
    "    \n",
    "    # A4 preference\n",
    "    message('Quadratic model of SC as a function of A4 vs A1 preference')\n",
    "    linmod <-lm(sc_flat ~ z_A4A1 + z_A4A1_2, data=df) %>% stargazerize()\n",
    "    \n",
    "    message('Quadratic model of SC as a function of A4 vs A2 preference')\n",
    "    linmod <-lm(sc_flat ~ z_A4A2 + z_A4A2_2, data=df) %>% stargazerize()\n",
    "    \n",
    "    message('Quadratic model of SC as a function of A4 vs A3 preference')\n",
    "    linmod <-lm(sc_flat ~ z_A4A3 + z_A4A3_2, data=df) %>% stargazerize()\n",
    "    \n",
    "}\n",
    "\n",
    "f()"
   ]
  },
  {
   "cell_type": "markdown",
   "metadata": {
    "heading_collapsed": true,
    "hidden": true
   },
   "source": [
    "### dwfPC ~ preference + preference^2"
   ]
  },
  {
   "cell_type": "code",
   "execution_count": null,
   "metadata": {
    "ExecuteTime": {
     "end_time": "2021-05-21T18:16:05.095525Z",
     "start_time": "2021-05-21T18:16:03.384Z"
    },
    "hidden": true
   },
   "outputs": [],
   "source": [
    "f <- function() {\n",
    "    # Get learning data\n",
    "    df1 <- tibble::as_tibble(read.csv('data/learning_data.csv')) %>%\n",
    "        # we exclude people who did not master anything\n",
    "        dplyr::filter(nam > 0) %>%\n",
    "        dplyr::select(sid, group, nam, dwfpc, dwipc, fpc, ipc, sc_flat) %>%\n",
    "        dplyr::mutate(\n",
    "            group = dplyr::recode(as.factor(group), '0'='IG', '1'='EG'),\n",
    "            sid = as.factor(sid),\n",
    "        ) %>%\n",
    "        dplyr::select(sid, group, dwfpc, fpc, dwipc, ipc)\n",
    "    \n",
    "    # Get time allocation data\n",
    "    df2 <- tibble::as_tibble(read.csv('data/clean_data.csv')) %>%\n",
    "        dplyr::filter(trial<=60+250) %>%\n",
    "        dplyr::select(sid,group,trial,activity) %>% \n",
    "        dplyr::group_by(group,sid,activity) %>% \n",
    "        dplyr::summarize(count=n()) %>%\n",
    "        dplyr::ungroup() %>%\n",
    "        dplyr::mutate(\n",
    "            relt=(count-15)/250,\n",
    "            group = dplyr::recode(as.factor(group), '0'='IG', '1'='EG'),\n",
    "            sid = as.factor(sid)\n",
    "        ) %>% \n",
    "        dplyr::select(sid, activity, relt) %>%\n",
    "        tidyr::pivot_wider(names_from = activity, values_from = relt)\n",
    "    \n",
    "    # Join datasets\n",
    "    df <- dplyr::left_join(df1, df2, by=c('sid'='sid')) \n",
    "    \n",
    "    # Standardize time allocation scores and square\n",
    "    df <-  dplyr::mutate(df, z_A3 = (A3 - mean(A3))/sd(A3), z_A4 = (A4 - mean(A4))/sd(A4)) %>% \n",
    "        dplyr::mutate(\n",
    "            z_A3_2 = z_A3^2,\n",
    "            z_A4_2 = z_A4^2\n",
    "        ) %>%\n",
    "    print()\n",
    "\n",
    "    # A3 preference\n",
    "    message('Quadratic model of dwfPC as a function of A3 preference')\n",
    "    linmod.nonq <-lm(dwfpc ~ dwipc + z_A3, data=df)\n",
    "    linmod.quad <-lm(dwfpc ~ dwipc + z_A3 + z_A3_2, data=df) \n",
    "    summary(linmod.quad) %>% print(digits=5)\n",
    "    print(AIC(linmod.nonq) - AIC(linmod.quad))\n",
    "    \n",
    "    # A4 preference\n",
    "    message('Quadratic model of dwfPC as a function of A4 preference')\n",
    "    linmod.nonq <-lm(dwfpc ~ dwipc + z_A4, data=df)\n",
    "    linmod.quad <-lm(dwfpc ~ dwipc + z_A4 + z_A4_2, data=df) \n",
    "    summary(linmod.quad) %>% print(digits=5)\n",
    "    print(AIC(linmod.nonq) - AIC(linmod.quad))\n",
    "    \n",
    "    \n",
    "}\n",
    "\n",
    "f()"
   ]
  },
  {
   "cell_type": "markdown",
   "metadata": {
    "heading_collapsed": true,
    "hidden": true
   },
   "source": [
    "### SC and computational-model coefficients"
   ]
  },
  {
   "cell_type": "code",
   "execution_count": null,
   "metadata": {
    "ExecuteTime": {
     "end_time": "2021-05-21T19:24:46.423925Z",
     "start_time": "2021-05-21T19:24:46.252Z"
    },
    "hidden": true,
    "scrolled": false
   },
   "outputs": [],
   "source": [
    "f <- function() {\n",
    "    # Get learning data\n",
    "    df1 <- tibble::as_tibble(read.csv('data/learning_data.csv')) %>%\n",
    "        # we exclude people who did not master anything\n",
    "        dplyr::filter(nam > 0) %>%\n",
    "        dplyr::select(sid, group, sc_flat) %>%\n",
    "        dplyr::mutate(\n",
    "            group = dplyr::recode(as.factor(group), '0'='IG', '1'='EG'),\n",
    "            sid = as.factor(sid),\n",
    "        )\n",
    "    \n",
    "    # Get coefficients data\n",
    "    df2 <- tibble::as_tibble(read.csv('data/model_results/param_fits_clean.csv')) %>%\n",
    "        dplyr::filter(vars=='rpc,rlp') %>%\n",
    "        dplyr::select(sid,group,nam,rpc,rlp,tau) %>%\n",
    "        dplyr::mutate(\n",
    "            sid=as.factor(sid),\n",
    "            group=dplyr::recode(as.factor(group), '0'='IG', '1'='EG'),\n",
    "        ) %>%\n",
    "        # normalize by Euclidean norm\n",
    "        dplyr::mutate(norm=sqrt(rpc^2+rlp^2)) %>%\n",
    "        dplyr::mutate(\n",
    "            nrpc = rpc / norm,\n",
    "            nrlp = rlp / norm\n",
    "        ) %>%\n",
    "        dplyr::select(sid, nrpc, nrlp)\n",
    "    \n",
    "    df <- dplyr::left_join(df1, df2, on='sid') %>% print()\n",
    "    \n",
    "    message('Linear model of SC as a function of coefficients')\n",
    "    linmod <- lm(sc_flat ~ nrpc * nrlp, data=df) %>% summary() %>% print(digits=6)\n",
    "\n",
    "}\n",
    "    \n",
    "f()"
   ]
  },
  {
   "cell_type": "markdown",
   "metadata": {
    "heading_collapsed": true,
    "hidden": true
   },
   "source": [
    "## Supplementary model comparisons"
   ]
  },
  {
   "cell_type": "code",
   "execution_count": null,
   "metadata": {
    "ExecuteTime": {
     "end_time": "2021-05-21T21:31:30.162533Z",
     "start_time": "2021-05-21T21:31:29.699Z"
    },
    "hidden": true
   },
   "outputs": [],
   "source": [
    "f <- function() {\n",
    "    # Compute baseline (random-choice) model likelihood and AIC\n",
    "    log_lik <- rep(.25, times=250) %>% log() %>% sum()\n",
    "    n_params <- 0\n",
    "    baseline_AIC <- -2*log_lik + 2*n_params\n",
    "    options(digits=6)\n",
    "    cat('Baseline AIC =', baseline_AIC)\n",
    "\n",
    "    # Load data\n",
    "    df.long <- tbl_df(read.csv('data/model_results/param_fits_clean.csv')) %>%\n",
    "        dplyr::mutate(sid=as.factor(sid)) %>%\n",
    "        dplyr::select(sid,vars,aic) %>%\n",
    "        dplyr::mutate(vars=dplyr::recode(vars,\n",
    "            'rpc,rlp'='rpc_rlp',\n",
    "            'rpc,abst'='rpc_abst',\n",
    "            'rlp,abst'='rlp_abst',\n",
    "            'rpc,rlp,abst'='triv',\n",
    "        ))\n",
    "\n",
    "    # Get AIC means and SD per model form\n",
    "    message('Average AIC scores per model form')\n",
    "    stats_summary <- dplyr::select(df.long, vars, aic) %>%\n",
    "        dplyr::group_by(vars) %>%\n",
    "        dplyr::summarize(mean=mean(aic), std=sd(aic)) %>% ungroup() %>%\n",
    "        dplyr::arrange(mean)\n",
    "    print(stats_summary)\n",
    "\n",
    "    # Contrast trivaraite models' AIC to next best model\n",
    "    df.wide <- tidyr::spread(df.long, vars, aic) %>%\n",
    "        dplyr::mutate(min_nontriv_aic=pmin(rpc, rlp, abst, rpc_rlp, rpc_abst, rlp_abst)) %>%\n",
    "        dplyr::mutate(min_uni_aic=pmin(rpc, rlp, abst)) %>%\n",
    "        dplyr::mutate(\n",
    "            triv_best = triv < min_nontriv_aic,\n",
    "            triv_adv = min_nontriv_aic - triv,\n",
    "            rpc_rlp_best = rpc_rlp < min_uni_aic,\n",
    "            rpc_rlp_adv = min_uni_aic - rpc_rlp,\n",
    "        ) %>%\n",
    "        dplyr::mutate(\n",
    "            # model containing rPC and rLP (either biv or triv) is best\n",
    "            rpc_rlp_plus = rpc_rlp_best | triv_best | (rpc_rlp < triv), \n",
    "        ) %>%\n",
    "        dplyr::mutate(\n",
    "            two_points = triv_adv >= 2,\n",
    "            two_points_ = rpc_rlp_adv >= 2\n",
    "        )\n",
    "\n",
    "    # Print summaries\n",
    "    message('Comparisons stats')\n",
    "    df.wide %>%\n",
    "        dplyr::summarize(\n",
    "            triv_best = mean(triv_best), \n",
    "            triv_two_points = mean(two_points),\n",
    "            mean_diff = mean(triv_adv),\n",
    "            std_diff = sd(triv_adv),\n",
    "            rpc_rlp_best = mean(rpc_rlp_best), \n",
    "            two_points_2 = mean(two_points_),\n",
    "            mean_diff_2 = mean(rpc_rlp_adv),\n",
    "            std_diff_2 = sd(rpc_rlp_adv),\n",
    "            rpc_rlp_plus_best = mean(rpc_rlp_plus)\n",
    "        ) %>%\n",
    "        print(width=Inf)\n",
    "\n",
    "    # Compare bivariate to the best univariate model (Wilcoxon signed-rank test)\n",
    "    # The test is appropriate when the difference between repeated measures is asymmetrical and non-normal\n",
    "    message('Wilcoxon sign test (for testing hypothesis that difference in medians is 0)')\n",
    "    test_results <- dplyr::select(df.wide, sid, min_nontriv_aic, triv) %>%\n",
    "        tidyr::pivot_longer(cols=c('min_nontriv_aic', 'triv'), names_to='nvars', values_to='aic') %>%\n",
    "        dplyr::mutate(nvars=dplyr::recode(as.factor(nvars), 'min_nontriv_aic'='1', 'triv'='2')) %>%\n",
    "        rstatix::sign_test(aic~nvars) %>% add_significance() %>%\n",
    "        print(digits=6)\n",
    "\n",
    "    message('Same test comparing PC+LP with other univariate models')\n",
    "    test_results <- dplyr::select(df.wide, sid, min_uni_aic, rpc_rlp) %>%\n",
    "        tidyr::pivot_longer(cols=c('min_uni_aic', 'rpc_rlp'), names_to='nvars', values_to='aic') %>%\n",
    "        dplyr::mutate(nvars=dplyr::recode(as.factor(nvars), 'min_uni_aic'='1', 'rpc_rlp'='2')) %>%\n",
    "        rstatix::sign_test(aic~nvars) %>% add_significance() %>%\n",
    "        print(digits=6)\n",
    "}\n",
    "\n",
    "f()"
   ]
  },
  {
   "cell_type": "markdown",
   "metadata": {
    "heading_collapsed": true,
    "hidden": true
   },
   "source": [
    "## Relationship between coefficients and behavioral activity preferences"
   ]
  },
  {
   "cell_type": "code",
   "execution_count": null,
   "metadata": {
    "ExecuteTime": {
     "end_time": "2021-05-21T19:52:32.571805Z",
     "start_time": "2021-05-21T19:52:31.477Z"
    },
    "hidden": true
   },
   "outputs": [],
   "source": [
    "f <- function() {\n",
    "    # Prepare coefficients data\n",
    "    df <- tbl_df(read.csv('data/model_results/param_fits_clean_.csv')) %>%\n",
    "        dplyr::filter(vars=='rpc,rlp') %>%\n",
    "        dplyr::select(sid,group,nam,rpc,rlp,tau) %>%\n",
    "        dplyr::mutate(\n",
    "            sid=as.factor(sid),\n",
    "            group=dplyr::recode(as.factor(group), '0'='IG', '1'='EG'),\n",
    "            nam=as.factor(nam)\n",
    "        ) %>%\n",
    "        # normalize by Euclidean norm\n",
    "        dplyr::mutate(norm=sqrt(rpc^2+rlp^2)) %>%\n",
    "        dplyr::mutate(\n",
    "            nrpc = rpc / norm,\n",
    "            nrlp = rlp / norm\n",
    "        )\n",
    "\n",
    "    df2 <- read.csv('data/clean_data.csv') %>%\n",
    "        dplyr::filter(trial <= 60+250) %>%\n",
    "        dplyr::select(sid, trial, activity) %>% \n",
    "        dplyr::group_by(sid, activity) %>% \n",
    "        dplyr::summarize(count=n()) %>%\n",
    "        dplyr::ungroup() %>%\n",
    "        dplyr::mutate(\n",
    "            relt = count-15,\n",
    "            sid = as.factor(sid)\n",
    "        ) %>%\n",
    "        dplyr::select(sid, activity, relt) %>%\n",
    "        tidyr::spread(activity, relt) %>%\n",
    "        dplyr::mutate(\n",
    "            A4_A123 = A4-(A1+A2+A3)/2, \n",
    "            A3_A12 = A3-(A1+A2)/2)\n",
    "\n",
    "    # Join datasets\n",
    "    df <- dplyr::inner_join(df, df2, by='sid')# %>%\n",
    "#         dplyr::filter(nrpc <= 0)\n",
    "    rm(df2)\n",
    "\n",
    "    # Fit linear models\n",
    "    message('pref ~ wPC * Group')\n",
    "    lm(A3_A12 ~ group * nrpc, data=df) %>% summary() %>% print(digits=6)\n",
    "    lm(A4_A123 ~ group * nrpc, data=df) %>% summary() %>% print(digits=6)\n",
    "    \n",
    "    message('pref ~ LP * Group')\n",
    "    lm(A3_A12 ~ group * nrlp, data=df) %>% summary() %>% print(digits=6)\n",
    "    lm(A4_A123 ~ group * nrlp, data=df) %>% summary() %>% print(digits=6)\n",
    "    \n",
    "}\n",
    "\n",
    "f()"
   ]
  },
  {
   "cell_type": "markdown",
   "metadata": {
    "heading_collapsed": true,
    "hidden": true
   },
   "source": [
    "## Comparison of performance between motivated and unmotivated learners"
   ]
  },
  {
   "cell_type": "code",
   "execution_count": null,
   "metadata": {
    "ExecuteTime": {
     "end_time": "2021-03-02T18:08:42.869283Z",
     "start_time": "2021-03-02T18:08:41.431Z"
    },
    "hidden": true,
    "scrolled": false
   },
   "outputs": [],
   "source": [
    "f <- function() {\n",
    "    # Prepare coefficients data\n",
    "    df <- tbl_df(read.csv('data/model_results/param_fits_clean.csv')) %>%\n",
    "        dplyr::filter(vars=='rpc,rlp') %>%\n",
    "        dplyr::select(sid,group,nam,rpc,rlp,tau) %>%\n",
    "        dplyr::mutate(\n",
    "            sid=as.factor(sid),\n",
    "            group=dplyr::recode(as.factor(group), '0'='IG', '1'='EG'),\n",
    "            nam=as.factor(nam)\n",
    "        ) %>%\n",
    "        # normalize by Euclidean norm\n",
    "        dplyr::mutate(norm=sqrt(rpc^2+rlp^2)) %>%\n",
    "        dplyr::mutate(\n",
    "            nrpc = rpc / norm,\n",
    "            nrlp = rlp / norm\n",
    "        ) %>%\n",
    "        dplyr::mutate(\n",
    "                nrpc_bin = cut(nrpc, breaks=3, labels=c(1,2,3)),\n",
    "                nrlp_bin = cut(nrlp, breaks=3, labels=c(1,2,3)),\n",
    "        ) %>%\n",
    "        dplyr::mutate(\n",
    "                motivated = (nrpc_bin==2) & (nrlp_bin==3),\n",
    "                unmotivated = (nrpc_bin==2) & (nrlp_bin==1),\n",
    "            )\n",
    "#         dplyr::mutate(\n",
    "#                 motivated = ((nrpc_bin==1) & (nrlp_bin==2)) | ((nrpc_bin==2) & (nrlp_bin==3)),\n",
    "#                 unmotivated = ((nrpc_bin==3) & (nrlp_bin==2)) | ((nrpc_bin==2) & (nrlp_bin==1)),\n",
    "#             )\n",
    "\n",
    "    # Load learning data\n",
    "    df2 <- tbl_df(read.csv('data/learning_data.csv')) %>%\n",
    "        dplyr::mutate(sid=as.factor(sid)) %>%\n",
    "        dplyr::select(sid, ipc, fpc, dwipc, dwfpc)\n",
    "    \n",
    "    # Join datasets\n",
    "    df <- dplyr::inner_join(df, df2, by='sid') %>%\n",
    "        dplyr::select(sid, group, motivated, unmotivated, ipc, fpc, dwipc, dwfpc) %>%\n",
    "        dplyr::filter(motivated | unmotivated) %>%\n",
    "        tidyr::pivot_longer(cols=c(motivated, unmotivated), names_to='motiv', values_to='keep') %>%\n",
    "        dplyr::mutate(motiv=as.factor(motiv)) %>%\n",
    "        dplyr::filter(keep) %>%\n",
    "        dplyr::select(-keep) %>%\n",
    "        tidyr::pivot_longer(cols=c(ipc, fpc, dwipc, dwfpc), names_to='test_time', values_to='score') %>%\n",
    "        dplyr::mutate(test_time=dplyr::recode(as.factor(test_time), ipc='pre_FALSE', fpc='post_FALSE', dwipc='pre_TRUE', dwfpc='post_TRUE')) %>%\n",
    "        tidyr::separate(test_time, into=c('test_time', 'weighted'), sep='_', convert=TRUE) %>%\n",
    "        dplyr::mutate(test_time=as.factor(test_time)) %>%\n",
    "        print()\n",
    "    rm(df2)\n",
    "\n",
    "    # Print group sizes\n",
    "    dplyr::group_by(df, motiv) %>% dplyr::summarize(n=n()/4) %>% print()\n",
    "    \n",
    "    # Stats\n",
    "    df <- dplyr::filter(df, weighted)\n",
    "    df <- within(df, motiv <- relevel(motiv, ref = 'unmotivated'))\n",
    "    df <- within(df, test_time <- relevel(test_time, ref = 'pre'))\n",
    "    # Fit linear model\n",
    "    message('Linear model of learning score as a function test time and motivation')\n",
    "    linmod <- lm(score ~ motiv*test_time, data=df)\n",
    "    # Report ANOVA\n",
    "    aov(linmod) %>% summary() %>% print(digits=6)\n",
    "    # Report contrasts\n",
    "    posthoc <- emmeans(linmod, pairwise ~ test_time | motiv, adjust = 'Tukey') %>% print(digits=6)\n",
    "    posthoc <- emmeans(linmod, pairwise ~ motiv | test_time, adjust = 'Tukey') %>% print(digits=6)\n",
    "}\n",
    "\n",
    "f()"
   ]
  },
  {
   "cell_type": "markdown",
   "metadata": {
    "heading_collapsed": true,
    "hidden": true
   },
   "source": [
    "## LP-driven vs PC-driven (ratings)"
   ]
  },
  {
   "cell_type": "code",
   "execution_count": null,
   "metadata": {
    "hidden": true
   },
   "outputs": [],
   "source": [
    "f <- function() {\n",
    "    # Prepare coefficients data\n",
    "    df <- tbl_df(read.csv('data/model_results/param_fits_clean_.csv')) %>%\n",
    "        dplyr::filter(vars=='rpc,rlp') %>%\n",
    "        dplyr::select(sid,group,nam,rpc,rlp,tau) %>%\n",
    "        # normalize by Euclidean norm\n",
    "        dplyr::mutate(norm=sqrt(rpc^2+rlp^2)) %>%\n",
    "        dplyr::mutate(\n",
    "            nrpc = rpc / norm,\n",
    "            nrlp = rlp / norm\n",
    "        ) %>%\n",
    "        dplyr::mutate(\n",
    "                nrpc_bin = cut(nrpc, breaks=3, labels=c(1,2,3)),\n",
    "                nrlp_bin = cut(nrlp, breaks=3, labels=c(1,2,3)),\n",
    "        ) %>% \n",
    "        dplyr::mutate(\n",
    "                nrpc_dom = (nrpc_bin==1) * (nrlp_bin==2),\n",
    "                nrlp_dom = (nrpc_bin==2) * (nrlp_bin==3),\n",
    "            ) %>% \n",
    "        dplyr::filter(nrpc_dom == 1 | nrlp_dom == 1) %>%\n",
    "        dplyr::select(sid, nrlp_dom) %>%\n",
    "        dplyr::inner_join(tbl_df(read.csv('data/combined_extra.csv')), by='sid') %>%\n",
    "        dplyr::filter(activity == 'A3' | activity == 'A4') %>%\n",
    "        dplyr::filter(item == 'int' | item == 'lrn2') %>%\n",
    "        dplyr::mutate(\n",
    "                sid = as.factor(sid),\n",
    "                group = dplyr::recode(as.factor(group), '0'='IG', '1'='EG'),\n",
    "                drive = dplyr::recode(as.factor(nrlp_dom), '0'='PC', '1'='LP')\n",
    "            ) %>% \n",
    "        print()\n",
    "    \n",
    "    # Fit linear model\n",
    "    message('Linear model of INT as a function of Activity (A3, A4) and Drive (PC, LP)')\n",
    "    linmod <- lm(rating_norm ~ activity*drive, data=dplyr::filter(df, item=='int')) %>% summary() %>% print(digits=6)\n",
    "    \n",
    "    message('Linear model of LRN2 as a function of Activity (A3, A4) and Drive (PC, LP)')\n",
    "    linmod <- lm(rating_norm ~ activity*drive, data=dplyr::filter(df, item=='lrn2')) %>% summary() %>% print(digits=6)\n",
    "\n",
    "}\n",
    "\n",
    "f()"
   ]
  }
 ],
 "metadata": {
  "hide_input": false,
  "kernelspec": {
   "display_name": "R",
   "language": "R",
   "name": "ir"
  },
  "language_info": {
   "codemirror_mode": "r",
   "file_extension": ".r",
   "mimetype": "text/x-r-source",
   "name": "R",
   "pygments_lexer": "r",
   "version": "3.5.0"
  },
  "toc": {
   "base_numbering": 1,
   "nav_menu": {},
   "number_sections": true,
   "sideBar": true,
   "skip_h1_title": false,
   "title_cell": "Table of Contents",
   "title_sidebar": "Contents",
   "toc_cell": false,
   "toc_position": {
    "height": "calc(100% - 180px)",
    "left": "10px",
    "top": "150px",
    "width": "187px"
   },
   "toc_section_display": true,
   "toc_window_display": false
  },
  "varInspector": {
   "cols": {
    "lenName": 16,
    "lenType": 16,
    "lenVar": 40
   },
   "kernels_config": {
    "python": {
     "delete_cmd_postfix": "",
     "delete_cmd_prefix": "del ",
     "library": "var_list.py",
     "varRefreshCmd": "print(var_dic_list())"
    },
    "r": {
     "delete_cmd_postfix": ") ",
     "delete_cmd_prefix": "rm(",
     "library": "var_list.r",
     "varRefreshCmd": "cat(var_dic_list()) "
    }
   },
   "types_to_exclude": [
    "module",
    "function",
    "builtin_function_or_method",
    "instance",
    "_Feature"
   ],
   "window_display": false
  }
 },
 "nbformat": 4,
 "nbformat_minor": 4
}
